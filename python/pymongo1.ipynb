{
 "cells": [
  {
   "cell_type": "markdown",
   "metadata": {},
   "source": [
    "# 1. Connect to your MongoDB cluster on the cloud"
   ]
  },
  {
   "cell_type": "code",
   "execution_count": 1,
   "metadata": {},
   "outputs": [
    {
     "ename": "ModuleNotFoundError",
     "evalue": "No module named 'pandas'",
     "output_type": "error",
     "traceback": [
      "\u001b[0;31m---------------------------------------------------------------------------\u001b[0m",
      "\u001b[0;31mModuleNotFoundError\u001b[0m                       Traceback (most recent call last)",
      "\u001b[0;32m<ipython-input-1-991868e9e8d4>\u001b[0m in \u001b[0;36m<module>\u001b[0;34m\u001b[0m\n\u001b[0;32m----> 1\u001b[0;31m \u001b[0;32mimport\u001b[0m \u001b[0mpandas\u001b[0m \u001b[0;32mas\u001b[0m \u001b[0mpd\u001b[0m\u001b[0;34m\u001b[0m\u001b[0;34m\u001b[0m\u001b[0m\n\u001b[0m\u001b[1;32m      2\u001b[0m \u001b[0;34m\u001b[0m\u001b[0m\n\u001b[1;32m      3\u001b[0m \u001b[0mdf\u001b[0m \u001b[0;34m=\u001b[0m \u001b[0mpd\u001b[0m\u001b[0;34m.\u001b[0m\u001b[0mread_csv\u001b[0m \u001b[0;34m(\u001b[0m\u001b[0;34m'EEET2574_Assignment2_data/Gas/coteq_gas_2018.csv'\u001b[0m\u001b[0;34m)\u001b[0m\u001b[0;34m\u001b[0m\u001b[0;34m\u001b[0m\u001b[0m\n\u001b[1;32m      4\u001b[0m \u001b[0mprint\u001b[0m \u001b[0;34m(\u001b[0m\u001b[0mdf\u001b[0m\u001b[0;34m)\u001b[0m\u001b[0;34m\u001b[0m\u001b[0;34m\u001b[0m\u001b[0m\n",
      "\u001b[0;31mModuleNotFoundError\u001b[0m: No module named 'pandas'"
     ]
    }
   ],
   "source": [
    "import pandas as pd\n",
    "\n",
    "df = pd.read_csv ('EEET2574_Assignment2_data/Gas/coteq_gas_2018.csv')\n",
    "print (df)"
   ]
  },
  {
   "cell_type": "markdown",
   "metadata": {},
   "source": [
    "# 2. Create a collection\n",
    "In the first example, we create a new collection. MongoDB stores documents in collections. Collections are analogous to tables in relational databases.\n",
    "\n"
   ]
  },
  {
   "cell_type": "code",
   "execution_count": 2,
   "metadata": {},
   "outputs": [
    {
     "data": {
      "text/plain": [
       "<pymongo.results.InsertManyResult at 0x199ebf80ec0>"
      ]
     },
     "execution_count": 2,
     "metadata": {},
     "output_type": "execute_result"
    }
   ],
   "source": [
    "cars = [ {'name': 'Audi', 'price': 52642},\n",
    "    {'name': 'Mercedes', 'price': 57127},\n",
    "    {'name': 'Skoda', 'price': 9000},\n",
    "    {'name': 'Volvo', 'price': 29000},\n",
    "    {'name': 'Bentley', 'price': 350000},\n",
    "    {'name': 'Citroen', 'price': 21000},\n",
    "    {'name': 'Hummer', 'price': 41400},\n",
    "    {'name': 'Volkswagen', 'price': 21600} ]\n",
    "\n",
    "db.cars.insert_many(cars)"
   ]
  },
  {
   "cell_type": "markdown",
   "metadata": {},
   "source": [
    "# 3. List collections\n",
    "With collection_names(), we get list available collections in the database."
   ]
  },
  {
   "cell_type": "code",
   "execution_count": 3,
   "metadata": {},
   "outputs": [
    {
     "name": "stdout",
     "output_type": "stream",
     "text": [
      "['processed_glassdoor', 'cars', 'raw_glassdoor']\n"
     ]
    },
    {
     "name": "stderr",
     "output_type": "stream",
     "text": [
      "<ipython-input-3-6172a591c87f>:1: DeprecationWarning: collection_names is deprecated. Use list_collection_names instead.\n",
      "  print(db.collection_names())\n"
     ]
    }
   ],
   "source": [
    "print(db.collection_names())"
   ]
  },
  {
   "cell_type": "markdown",
   "metadata": {},
   "source": [
    "# 4. Get the stats\n",
    "The dbstats command returns statistics that reflect the use state of a single database."
   ]
  },
  {
   "cell_type": "code",
   "execution_count": 4,
   "metadata": {},
   "outputs": [
    {
     "name": "stdout",
     "output_type": "stream",
     "text": [
      "{'db': 'testdb', 'collections': 3, 'views': 0, 'objects': 154, 'avgObjSize': 4111.883116883117, 'dataSize': 633230, 'storageSize': 659456, 'totalFreeStorageSize': 0, 'numExtents': 0, 'indexes': 3, 'indexSize': 77824, 'fileSize': 0, 'nsSizeMB': 0, 'ok': 1}\n"
     ]
    }
   ],
   "source": [
    "status = db.command(\"dbstats\")\n",
    "print(status)"
   ]
  },
  {
   "cell_type": "markdown",
   "metadata": {},
   "source": [
    "# 5. PyMongo cursor\n",
    "The find methods return a PyMongo cursor, which is a reference to the result set of a query."
   ]
  },
  {
   "cell_type": "code",
   "execution_count": 5,
   "metadata": {},
   "outputs": [],
   "source": [
    "cars = db.cars.find()"
   ]
  },
  {
   "cell_type": "code",
   "execution_count": 6,
   "metadata": {},
   "outputs": [
    {
     "data": {
      "text/plain": [
       "<pymongo.cursor.Cursor at 0x199ebf827c0>"
      ]
     },
     "execution_count": 6,
     "metadata": {},
     "output_type": "execute_result"
    }
   ],
   "source": [
    "cars"
   ]
  },
  {
   "cell_type": "code",
   "execution_count": 5,
   "metadata": {},
   "outputs": [
    {
     "name": "stdout",
     "output_type": "stream",
     "text": [
      "{'_id': ObjectId('60e01fbabbdff5c63ee54aa9'), 'name': 'Audi', 'price': 52642}\n",
      "{'_id': ObjectId('60e01fbabbdff5c63ee54aaa'), 'name': 'Mercedes', 'price': 57127}\n",
      "{'_id': ObjectId('60e01fbabbdff5c63ee54aab'), 'name': 'Skoda', 'price': 9000}\n",
      "{'_id': ObjectId('60e01fbabbdff5c63ee54aa9'), 'name': 'Audi', 'price': 52642}\n",
      "{'_id': ObjectId('60e01fbabbdff5c63ee54aaa'), 'name': 'Mercedes', 'price': 57127}\n",
      "{'_id': ObjectId('60e01fbabbdff5c63ee54aab'), 'name': 'Skoda', 'price': 9000}\n",
      "[{'_id': ObjectId('60e01fbabbdff5c63ee54aac'), 'name': 'Volvo', 'price': 29000}, {'_id': ObjectId('60e01fbabbdff5c63ee54aad'), 'name': 'Bentley', 'price': 350000}, {'_id': ObjectId('60e01fbabbdff5c63ee54aae'), 'name': 'Citroen', 'price': 21000}, {'_id': ObjectId('60e01fbabbdff5c63ee54aaf'), 'name': 'Hummer', 'price': 41400}, {'_id': ObjectId('60e01fbabbdff5c63ee54ab0'), 'name': 'Volkswagen', 'price': 21600}, {'_id': ObjectId('60e02c43e31082a3a4126aff'), 'name': 'Audi', 'price': 52642}, {'_id': ObjectId('60e02c43e31082a3a4126b00'), 'name': 'Mercedes', 'price': 57127}, {'_id': ObjectId('60e02c43e31082a3a4126b01'), 'name': 'Skoda', 'price': 9000}, {'_id': ObjectId('60e02c43e31082a3a4126b02'), 'name': 'Volvo', 'price': 29000}, {'_id': ObjectId('60e02c43e31082a3a4126b03'), 'name': 'Bentley', 'price': 350000}, {'_id': ObjectId('60e02c43e31082a3a4126b04'), 'name': 'Citroen', 'price': 21000}, {'_id': ObjectId('60e02c43e31082a3a4126b05'), 'name': 'Hummer', 'price': 41400}, {'_id': ObjectId('60e02c43e31082a3a4126b06'), 'name': 'Volkswagen', 'price': 21600}, {'_id': ObjectId('60e02fff326071bd317b1816'), 'name': 'Audi', 'price': 52642}, {'_id': ObjectId('60e02fff326071bd317b1817'), 'name': 'Mercedes', 'price': 57127}, {'_id': ObjectId('60e02fff326071bd317b1818'), 'name': 'Skoda', 'price': 9000}, {'_id': ObjectId('60e02fff326071bd317b1819'), 'name': 'Volvo', 'price': 29000}, {'_id': ObjectId('60e02fff326071bd317b181a'), 'name': 'Bentley', 'price': 350000}, {'_id': ObjectId('60e02fff326071bd317b181b'), 'name': 'Citroen', 'price': 21000}, {'_id': ObjectId('60e02fff326071bd317b181c'), 'name': 'Hummer', 'price': 41400}, {'_id': ObjectId('60e02fff326071bd317b181d'), 'name': 'Volkswagen', 'price': 21600}]\n"
     ]
    }
   ],
   "source": [
    "cars = db.cars.find()\n",
    "\n",
    "print(cars.next())\n",
    "print(cars.next())\n",
    "print(cars.next())\n",
    "\n",
    "cars.rewind()\n",
    "\n",
    "print(cars.next())\n",
    "print(cars.next())\n",
    "print(cars.next())    \n",
    "\n",
    "print(list(cars))"
   ]
  },
  {
   "cell_type": "markdown",
   "metadata": {},
   "source": [
    "# 6. Read all data\n",
    "In the following example, we read all records from the collection. We use Python for loop to traverse the returned cursor."
   ]
  },
  {
   "cell_type": "code",
   "execution_count": 6,
   "metadata": {},
   "outputs": [
    {
     "name": "stdout",
     "output_type": "stream",
     "text": [
      "Audi 52642\n",
      "Mercedes 57127\n",
      "Skoda 9000\n",
      "Volvo 29000\n",
      "Bentley 350000\n",
      "Citroen 21000\n",
      "Hummer 41400\n",
      "Volkswagen 21600\n",
      "Audi 52642\n",
      "Mercedes 57127\n",
      "Skoda 9000\n",
      "Volvo 29000\n",
      "Bentley 350000\n",
      "Citroen 21000\n",
      "Hummer 41400\n",
      "Volkswagen 21600\n",
      "Audi 52642\n",
      "Mercedes 57127\n",
      "Skoda 9000\n",
      "Volvo 29000\n",
      "Bentley 350000\n",
      "Citroen 21000\n",
      "Hummer 41400\n",
      "Volkswagen 21600\n"
     ]
    }
   ],
   "source": [
    "cars = db.cars.find()\n",
    "\n",
    "for car in cars:\n",
    "    print('{0} {1}'.format(car['name'], car['price']))"
   ]
  },
  {
   "cell_type": "code",
   "execution_count": 7,
   "metadata": {},
   "outputs": [
    {
     "name": "stdout",
     "output_type": "stream",
     "text": [
      "Skoda: 9000\n",
      "Volvo: 29000\n",
      "Bentley: 350000\n"
     ]
    }
   ],
   "source": [
    "# limit output\n",
    "cars = db.cars.find().skip(2).limit(3)\n",
    "\n",
    "for car in cars:\n",
    "    print('{0}: {1}'.format(car['name'], car['price']))"
   ]
  },
  {
   "cell_type": "markdown",
   "metadata": {},
   "source": [
    "# 7. Count documents\n",
    "The number of documents is retrieved with the count() method."
   ]
  },
  {
   "cell_type": "code",
   "execution_count": 8,
   "metadata": {},
   "outputs": [
    {
     "name": "stdout",
     "output_type": "stream",
     "text": [
      "There are 24 cars\n"
     ]
    },
    {
     "name": "stderr",
     "output_type": "stream",
     "text": [
      "<ipython-input-8-529d3bb76e31>:1: DeprecationWarning: count is deprecated. Use Collection.count_documents instead.\n",
      "  n_cars = db.cars.find().count()\n"
     ]
    }
   ],
   "source": [
    "n_cars = db.cars.find().count()\n",
    "print(\"There are {} cars\".format(n_cars))"
   ]
  },
  {
   "cell_type": "markdown",
   "metadata": {},
   "source": [
    "# 8. PyMongo filters\n",
    "The first parameter of find() and find_one() is a filter. The filter is a condition that all documents must match."
   ]
  },
  {
   "cell_type": "code",
   "execution_count": 9,
   "metadata": {},
   "outputs": [
    {
     "name": "stdout",
     "output_type": "stream",
     "text": [
      "Audi\n",
      "Mercedes\n",
      "Bentley\n",
      "Audi\n",
      "Mercedes\n",
      "Bentley\n",
      "Audi\n",
      "Mercedes\n",
      "Bentley\n"
     ]
    }
   ],
   "source": [
    "expensive_cars = db.cars.find({'price': {'$gt': 50000}})\n",
    "for ecar in expensive_cars:\n",
    "    print(ecar['name'])"
   ]
  },
  {
   "cell_type": "markdown",
   "metadata": {},
   "source": [
    "# 9. PyMongo sorting documents\n",
    "We can sort documents with sort()."
   ]
  },
  {
   "cell_type": "code",
   "execution_count": 10,
   "metadata": {},
   "outputs": [
    {
     "name": "stdout",
     "output_type": "stream",
     "text": [
      "Bentley 350000\n",
      "Bentley 350000\n",
      "Bentley 350000\n",
      "Mercedes 57127\n",
      "Mercedes 57127\n",
      "Mercedes 57127\n",
      "Audi 52642\n",
      "Audi 52642\n",
      "Audi 52642\n",
      "Hummer 41400\n",
      "Hummer 41400\n",
      "Hummer 41400\n",
      "Volvo 29000\n",
      "Volvo 29000\n",
      "Volvo 29000\n",
      "Volkswagen 21600\n",
      "Volkswagen 21600\n",
      "Volkswagen 21600\n",
      "Citroen 21000\n",
      "Citroen 21000\n",
      "Citroen 21000\n",
      "Skoda 9000\n",
      "Skoda 9000\n",
      "Skoda 9000\n"
     ]
    }
   ],
   "source": [
    "cars = db.cars.find().sort(\"price\", pymongo.DESCENDING)\n",
    "\n",
    "for car in cars:\n",
    "    print('{0} {1}'.format(car['name'], \n",
    "        car['price']))"
   ]
  },
  {
   "cell_type": "markdown",
   "metadata": {},
   "source": [
    "# 10. PyMongo aggregations\n",
    "Aggregations calculate aggregate values for the data in a collection."
   ]
  },
  {
   "cell_type": "code",
   "execution_count": 11,
   "metadata": {},
   "outputs": [
    {
     "name": "stdout",
     "output_type": "stream",
     "text": [
      "The sum of prices is 1745307\n"
     ]
    }
   ],
   "source": [
    "# sum price of  all cars\n",
    "agr = [ {'$group': {'_id': 1, 'all': { '$sum': '$price' } } } ]\n",
    "val = list(db.cars.aggregate(agr))\n",
    "print('The sum of prices is {}'.format(val[0]['all']))"
   ]
  },
  {
   "cell_type": "code",
   "execution_count": 12,
   "metadata": {},
   "outputs": [
    {
     "name": "stdout",
     "output_type": "stream",
     "text": [
      "The sum of prices of two cars is 244926\n"
     ]
    }
   ],
   "source": [
    "# sum price of 2 cars  that match the condition\n",
    "agr = [\n",
    "    { '$match': \n",
    "         {'$or': \n",
    "          [ { 'name': \"Audi\" }, { 'name': \"Volvo\" }] \n",
    "         }\n",
    "    }, \n",
    "    { '$group': {'_id': 1, 'sum2cars': { '$sum': \"$price\" } }}]\n",
    "\n",
    "val = list(db.cars.aggregate(agr))\n",
    "\n",
    "print('The sum of prices of two cars is {}'.format(val[0]['sum2cars']))"
   ]
  },
  {
   "cell_type": "markdown",
   "metadata": {
    "tags": []
   },
   "source": [
    "# 11. Drop collections\n",
    "The drop() method removes a collection from the database.\n",
    "\n"
   ]
  },
  {
   "cell_type": "code",
   "execution_count": 13,
   "metadata": {
    "tags": []
   },
   "outputs": [],
   "source": [
    "db.cars.drop()"
   ]
  },
  {
   "cell_type": "code",
   "execution_count": null,
   "metadata": {},
   "outputs": [],
   "source": []
  }
 ],
 "metadata": {
  "kernelspec": {
   "display_name": "Python 3",
   "language": "python",
   "name": "python3"
  },
  "language_info": {
   "codemirror_mode": {
    "name": "ipython",
    "version": 3
   },
   "file_extension": ".py",
   "mimetype": "text/x-python",
   "name": "python",
   "nbconvert_exporter": "python",
   "pygments_lexer": "ipython3",
   "version": "3.9.4"
  }
 },
 "nbformat": 4,
 "nbformat_minor": 5
}